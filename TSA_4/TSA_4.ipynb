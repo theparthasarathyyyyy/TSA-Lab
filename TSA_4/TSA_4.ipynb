{
  "nbformat": 4,
  "nbformat_minor": 0,
  "metadata": {
    "colab": {
      "provenance": [],
      "authorship_tag": "ABX9TyOXHkMPLAqyTYRrqmHAHwsz",
      "include_colab_link": true
    },
    "kernelspec": {
      "name": "python3",
      "display_name": "Python 3"
    },
    "language_info": {
      "name": "python"
    }
  },
  "cells": [
    {
      "cell_type": "markdown",
      "metadata": {
        "id": "view-in-github",
        "colab_type": "text"
      },
      "source": [
        "<a href=\"https://colab.research.google.com/github/ambitious08/TSA-LAB/blob/main/TSA_4.ipynb\" target=\"_parent\"><img src=\"https://colab.research.google.com/assets/colab-badge.svg\" alt=\"Open In Colab\"/></a>"
      ]
    },
    {
      "cell_type": "code",
      "source": [
        "from statsmodels.tsa.stattools import adfuller\n",
        "import pandas as pd\n",
        "import numpy as np\n",
        "%matplotlib inline"
      ],
      "metadata": {
        "id": "fVCoHGgBZLi7"
      },
      "execution_count": 2,
      "outputs": []
    },
    {
      "cell_type": "code",
      "source": [
        "import pandas as pd\n",
        "\n",
        "# Load the dataset\n",
        "df = pd.read_csv('autism_screening.csv')\n",
        "\n",
        "# View the first few rows to check structure\n",
        "print(df.head())\n",
        "\n",
        "# Check for missing values\n",
        "print(df.isnull().sum())\n",
        "\n",
        "# Describe the dataset (summary statistics for numerical columns)\n",
        "print(df.describe())\n",
        "\n",
        "# Check the data types of each column\n",
        "print(df.dtypes)\n",
        "\n",
        "# Explore the correlation between numerical columns (e.g., A1_Score to A10_Score)\n",
        "score_columns = ['A1_Score', 'A2_Score', 'A3_Score', 'A4_Score', 'A5_Score',\n",
        "                 'A6_Score', 'A7_Score', 'A8_Score', 'A9_Score', 'A10_Score']\n",
        "correlation = df[score_columns].corr()\n",
        "\n",
        "# Display the correlation matrix\n",
        "print(correlation)\n"
      ],
      "metadata": {
        "colab": {
          "base_uri": "https://localhost:8080/"
        },
        "id": "r5bCuUEZdHL9",
        "outputId": "40cb2737-8746-4d46-fe32-aad789e99e10"
      },
      "execution_count": 10,
      "outputs": [
        {
          "output_type": "stream",
          "name": "stdout",
          "text": [
            "   A1_Score  A2_Score  A3_Score  A4_Score  A5_Score  A6_Score  A7_Score  \\\n",
            "0         1         1         1         1         0         0         1   \n",
            "1         1         1         0         1         0         0         0   \n",
            "2         1         1         0         1         1         0         1   \n",
            "3         1         1         0         1         0         0         1   \n",
            "4         1         0         0         0         0         0         0   \n",
            "\n",
            "   A8_Score  A9_Score  A10_Score  ...  gender       ethnicity jundice austim  \\\n",
            "0         1         0          0  ...       f  White-European      no     no   \n",
            "1         1         0          1  ...       m          Latino      no    yes   \n",
            "2         1         1          1  ...       m          Latino     yes    yes   \n",
            "3         1         0          1  ...       f  White-European      no    yes   \n",
            "4         1         0          0  ...       f               ?      no     no   \n",
            "\n",
            "   contry_of_res used_app_before result     age_desc relation Class/ASD  \n",
            "0  United States              no    6.0  18 and more     Self        NO  \n",
            "1         Brazil              no    5.0  18 and more     Self        NO  \n",
            "2          Spain              no    8.0  18 and more   Parent       YES  \n",
            "3  United States              no    6.0  18 and more     Self        NO  \n",
            "4          Egypt              no    2.0  18 and more        ?        NO  \n",
            "\n",
            "[5 rows x 21 columns]\n",
            "A1_Score           0\n",
            "A2_Score           0\n",
            "A3_Score           0\n",
            "A4_Score           0\n",
            "A5_Score           0\n",
            "A6_Score           0\n",
            "A7_Score           0\n",
            "A8_Score           0\n",
            "A9_Score           0\n",
            "A10_Score          0\n",
            "age                2\n",
            "gender             0\n",
            "ethnicity          0\n",
            "jundice            0\n",
            "austim             0\n",
            "contry_of_res      0\n",
            "used_app_before    0\n",
            "result             0\n",
            "age_desc           0\n",
            "relation           0\n",
            "Class/ASD          0\n",
            "dtype: int64\n",
            "         A1_Score    A2_Score    A3_Score    A4_Score    A5_Score    A6_Score  \\\n",
            "count  704.000000  704.000000  704.000000  704.000000  704.000000  704.000000   \n",
            "mean     0.721591    0.453125    0.457386    0.495739    0.498580    0.284091   \n",
            "std      0.448535    0.498152    0.498535    0.500337    0.500353    0.451301   \n",
            "min      0.000000    0.000000    0.000000    0.000000    0.000000    0.000000   \n",
            "25%      0.000000    0.000000    0.000000    0.000000    0.000000    0.000000   \n",
            "50%      1.000000    0.000000    0.000000    0.000000    0.000000    0.000000   \n",
            "75%      1.000000    1.000000    1.000000    1.000000    1.000000    1.000000   \n",
            "max      1.000000    1.000000    1.000000    1.000000    1.000000    1.000000   \n",
            "\n",
            "         A7_Score    A8_Score    A9_Score   A10_Score         age      result  \n",
            "count  704.000000  704.000000  704.000000  704.000000  702.000000  704.000000  \n",
            "mean     0.417614    0.649148    0.323864    0.573864   29.698006    4.875000  \n",
            "std      0.493516    0.477576    0.468281    0.494866   16.507465    2.501493  \n",
            "min      0.000000    0.000000    0.000000    0.000000   17.000000    0.000000  \n",
            "25%      0.000000    0.000000    0.000000    0.000000   21.000000    3.000000  \n",
            "50%      0.000000    1.000000    0.000000    1.000000   27.000000    4.000000  \n",
            "75%      1.000000    1.000000    1.000000    1.000000   35.000000    7.000000  \n",
            "max      1.000000    1.000000    1.000000    1.000000  383.000000   10.000000  \n",
            "A1_Score             int64\n",
            "A2_Score             int64\n",
            "A3_Score             int64\n",
            "A4_Score             int64\n",
            "A5_Score             int64\n",
            "A6_Score             int64\n",
            "A7_Score             int64\n",
            "A8_Score             int64\n",
            "A9_Score             int64\n",
            "A10_Score            int64\n",
            "age                float64\n",
            "gender              object\n",
            "ethnicity           object\n",
            "jundice             object\n",
            "austim              object\n",
            "contry_of_res       object\n",
            "used_app_before     object\n",
            "result             float64\n",
            "age_desc            object\n",
            "relation            object\n",
            "Class/ASD           object\n",
            "dtype: object\n",
            "           A1_Score  A2_Score  A3_Score  A4_Score  A5_Score  A6_Score  \\\n",
            "A1_Score   1.000000  0.011539  0.074096  0.127814  0.169369  0.110199   \n",
            "A2_Score   0.011539  1.000000  0.223921  0.158998  0.153821  0.185864   \n",
            "A3_Score   0.074096  0.223921  1.000000  0.412722  0.264927  0.268846   \n",
            "A4_Score   0.127814  0.158998  0.412722  1.000000  0.306806  0.295152   \n",
            "A5_Score   0.169369  0.153821  0.264927  0.306806  1.000000  0.392354   \n",
            "A6_Score   0.110199  0.185864  0.268846  0.295152  0.392354  1.000000   \n",
            "A7_Score   0.217538 -0.041768  0.078216  0.151236  0.238589  0.175489   \n",
            "A8_Score   0.147640  0.035408  0.017771  0.008617  0.102086  0.100123   \n",
            "A9_Score   0.145452  0.205421  0.315113  0.327673  0.396582  0.479422   \n",
            "A10_Score  0.118413  0.068883  0.168454  0.210968  0.267561  0.294435   \n",
            "\n",
            "           A7_Score  A8_Score  A9_Score  A10_Score  \n",
            "A1_Score   0.217538  0.147640  0.145452   0.118413  \n",
            "A2_Score  -0.041768  0.035408  0.205421   0.068883  \n",
            "A3_Score   0.078216  0.017771  0.315113   0.168454  \n",
            "A4_Score   0.151236  0.008617  0.327673   0.210968  \n",
            "A5_Score   0.238589  0.102086  0.396582   0.267561  \n",
            "A6_Score   0.175489  0.100123  0.479422   0.294435  \n",
            "A7_Score   1.000000  0.085403  0.189480   0.252107  \n",
            "A8_Score   0.085403  1.000000  0.101733   0.100782  \n",
            "A9_Score   0.189480  0.101733  1.000000   0.283340  \n",
            "A10_Score  0.252107  0.100782  0.283340   1.000000  \n"
          ]
        }
      ]
    },
    {
      "cell_type": "code",
      "source": [
        "import pandas as pd\n",
        "from statsmodels.tsa.stattools import adfuller\n",
        "\n",
        "# Load the dataset\n",
        "df = pd.read_csv('autism_screening.csv')\n",
        "\n",
        "# Select a numeric column, such as 'A1_Score' for the ADF test\n",
        "score_column = 'A1_Score'\n",
        "\n",
        "# Perform the Augmented Dickey-Fuller test\n",
        "result = adfuller(df[score_column])\n",
        "\n",
        "# Display the results\n",
        "print(f\"ADF Statistic: {result[0]}\")\n",
        "print(f\"p-value: {result[1]}\")\n",
        "print(f\"Critical Values: {result[4]}\")"
      ],
      "metadata": {
        "colab": {
          "base_uri": "https://localhost:8080/"
        },
        "id": "rzRfZagRdfAb",
        "outputId": "84ea56c0-63d5-40e2-c343-2e4e7ad59e7d"
      },
      "execution_count": 13,
      "outputs": [
        {
          "output_type": "stream",
          "name": "stdout",
          "text": [
            "ADF Statistic: -6.802047514029919\n",
            "p-value: 2.2242910373784252e-09\n",
            "Critical Values: {'1%': -3.439794053189972, '5%': -2.8657075899001314, '10%': -2.56898934061384}\n"
          ]
        }
      ]
    },
    {
      "cell_type": "code",
      "source": [
        "if result[1] <= 0.05:\n",
        "    print(\"Reject the null hypothesis: The time series is stationary\")\n",
        "else:\n",
        "    print(\"Fail to reject the null hypothesis: The time series is non-stationary\")"
      ],
      "metadata": {
        "colab": {
          "base_uri": "https://localhost:8080/"
        },
        "id": "eoLQBYO-eQ6D",
        "outputId": "53a52361-171d-4169-efdb-2cd765b151cd"
      },
      "execution_count": 14,
      "outputs": [
        {
          "output_type": "stream",
          "name": "stdout",
          "text": [
            "Reject the null hypothesis: The time series is stationary\n"
          ]
        }
      ]
    },
    {
      "cell_type": "code",
      "source": [],
      "metadata": {
        "id": "Cpc_4CoTeUxL"
      },
      "execution_count": null,
      "outputs": []
    }
  ]
}